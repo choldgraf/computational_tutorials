{
 "metadata": {
  "name": "cross-val-test"
 },
 "nbformat": 3,
 "nbformat_minor": 0,
 "worksheets": [
  {
   "cells": [
    {
     "cell_type": "code",
     "collapsed": false,
     "input": [
      "import scipy.io as si\n",
      "from sklearn import linear_model, cross_validation"
     ],
     "language": "python",
     "metadata": {},
     "outputs": [],
     "prompt_number": 19
    },
    {
     "cell_type": "heading",
     "level": 2,
     "metadata": {},
     "source": [
      "First we're loading some ECoG data"
     ]
    },
    {
     "cell_type": "code",
     "collapsed": false,
     "input": [
      "data = si.loadmat('mydata.mat')\n",
      "myData = data['data']\n",
      "\n",
      "# The data is nElectrodes by nTimepoints\n",
      "myData.shape"
     ],
     "language": "python",
     "metadata": {},
     "outputs": [],
     "prompt_number": 3
    },
    {
     "cell_type": "heading",
     "level": 3,
     "metadata": {},
     "source": [
      "We'll try to predict the activity of one electrode from the activity of the others"
     ]
    },
    {
     "cell_type": "code",
     "collapsed": false,
     "input": [
      "predNum = 37\n",
      "predictElec = reshape(myData[predNum, :], (1, -1)).T\n",
      "inputElecs = np.delete(myData, predNum, 0).T"
     ],
     "language": "python",
     "metadata": {},
     "outputs": [],
     "prompt_number": 78
    },
    {
     "cell_type": "heading",
     "level": 3,
     "metadata": {},
     "source": [
      "We define our model as a linear model (using Ridge Regression), then split the data into train + test sets"
     ]
    },
    {
     "cell_type": "code",
     "collapsed": false,
     "input": [
      "myModel = linear_model.Ridge()"
     ],
     "language": "python",
     "metadata": {},
     "outputs": [],
     "prompt_number": 79
    },
    {
     "cell_type": "code",
     "collapsed": false,
     "input": [
      "trainData, testData, trainPred, testPred = cross_validation.train_test_split(inputElecs, predictElec, test_size=0.2)"
     ],
     "language": "python",
     "metadata": {},
     "outputs": [],
     "prompt_number": 80
    },
    {
     "cell_type": "heading",
     "level": 3,
     "metadata": {},
     "source": [
      "Now we can fit the model on the training set, and test it on the test set"
     ]
    },
    {
     "cell_type": "code",
     "collapsed": false,
     "input": [
      "myModel.fit(trainData, trainPred)"
     ],
     "language": "python",
     "metadata": {},
     "outputs": [
      {
       "output_type": "pyout",
       "prompt_number": 81,
       "text": [
        "Ridge(alpha=1.0, copy_X=True, fit_intercept=True, max_iter=None,\n",
        "   normalize=False, solver='auto', tol=0.001)"
       ]
      }
     ],
     "prompt_number": 81
    },
    {
     "cell_type": "code",
     "collapsed": false,
     "input": [
      "modelScore = myModel.score(testData, testPred)\n",
      "modelScore"
     ],
     "language": "python",
     "metadata": {},
     "outputs": [
      {
       "output_type": "pyout",
       "prompt_number": 82,
       "text": [
        "0.28615049136991455"
       ]
      }
     ],
     "prompt_number": 82
    },
    {
     "cell_type": "heading",
     "level": 3,
     "metadata": {},
     "source": [
      "However, now we've lost a bunch of data that could be used for training the model.  Instead, we can improve this process and leverage more data.  Need to use K-Fold cross validation"
     ]
    },
    {
     "cell_type": "code",
     "collapsed": false,
     "input": [
      "# To give the intuition, this is basically what it does\n",
      "cvIndices = cross_validation.KFold(len(predictElec), 10)\n",
      "for train, test in cvIndices:\n",
      "    print train, test"
     ],
     "language": "python",
     "metadata": {},
     "outputs": [
      {
       "output_type": "stream",
       "stream": "stdout",
       "text": [
        "[ 1768  1769  1770 ..., 17677 17678 17679] [   0    1    2 ..., 1765 1766 1767]\n",
        "[    0     1     2 ..., 17677 17678 17679] [1768 1769 1770 ..., 3533 3534 3535]\n",
        "[    0     1     2 ..., 17677 17678 17679] [3536 3537 3538 ..., 5301 5302 5303]\n",
        "[    0     1     2 ..., 17677 17678 17679] [5304 5305 5306 ..., 7069 7070 7071]\n",
        "[    0     1     2 ..., 17677 17678 17679] [7072 7073 7074 ..., 8837 8838 8839]\n",
        "[    0     1     2 ..., 17677 17678 17679] [ 8840  8841  8842 ..., 10605 10606 10607]\n",
        "[    0     1     2 ..., 17677 17678 17679] [10608 10609 10610 ..., 12373 12374 12375]\n",
        "[    0     1     2 ..., 17677 17678 17679] [12376 12377 12378 ..., 14141 14142 14143]\n",
        "[    0     1     2 ..., 17677 17678 17679] [14144 14145 14146 ..., 15909 15910 15911]\n",
        "[    0     1     2 ..., 15909 15910 15911] [15912 15913 15914 ..., 17677 17678 17679]\n"
       ]
      }
     ],
     "prompt_number": 89
    },
    {
     "cell_type": "code",
     "collapsed": false,
     "input": [
      "cvScores = cross_validation.cross_val_score(myModel, inputElecs, predictElec, cv=20)"
     ],
     "language": "python",
     "metadata": {},
     "outputs": [],
     "prompt_number": 83
    },
    {
     "cell_type": "heading",
     "level": 3,
     "metadata": {},
     "source": [
      "Now we can look at the distribution of our model performance across all of these folds"
     ]
    },
    {
     "cell_type": "code",
     "collapsed": false,
     "input": [
      "hist(cvScores)"
     ],
     "language": "python",
     "metadata": {},
     "outputs": [
      {
       "output_type": "pyout",
       "prompt_number": 84,
       "text": [
        "(array([2, 4, 5, 4, 3, 1, 0, 0, 0, 1]),\n",
        " array([ 0.19696178,  0.22824003,  0.25951828,  0.29079652,  0.32207477,\n",
        "        0.35335302,  0.38463126,  0.41590951,  0.44718776,  0.478466  ,\n",
        "        0.50974425]),\n",
        " <a list of 10 Patch objects>)"
       ]
      },
      {
       "output_type": "display_data",
       "png": "[encoded data removed]",
       "text": [
        "<matplotlib.figure.Figure at 0x1148b6210>"
       ]
      }
     ],
     "prompt_number": 84
    },
    {
     "cell_type": "code",
     "collapsed": false,
     "input": [],
     "language": "python",
     "metadata": {},
     "outputs": []
    }
   ],
   "metadata": {}
  }
 ]
}