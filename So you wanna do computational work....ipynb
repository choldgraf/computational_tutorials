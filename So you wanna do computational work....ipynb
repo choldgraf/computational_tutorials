{
 "metadata": {
  "name": ""
 },
 "nbformat": 3,
 "nbformat_minor": 0,
 "worksheets": [
  {
   "cells": [
    {
     "cell_type": "heading",
     "level": 3,
     "metadata": {},
     "source": [
      "This is a general notebook aimed at explaining some of the things that one should consider if they want to do computational work"
     ]
    },
    {
     "cell_type": "markdown",
     "metadata": {},
     "source": [
      "Say you're a scientist - maybe a psychologist, biologist, chemist, anything really, and you decide that you'd like to learn more about computational methods, statistics, and how they might become a part of your life.  This is a very general overview of some things that you might want to do in order to step in the right direction."
     ]
    },
    {
     "cell_type": "markdown",
     "metadata": {},
     "source": [
      "There are a few basic things that you should focus on if you want to start working with computational methods from a scientist's viewpoint.  These are (in no particular order)...\n",
      "\n",
      "1. Basic linear algebra\n",
      "1. Statistics (lots of them, and the intuition for their math)\n",
      "1. Probability theory (especially if you want to get into cutting-edge methods)\n",
      "1. Computer programming in this order: python, matlab, r\n",
      "1. Signal processing\n",
      "1. Machine Learning (though this is really poorly defined)\n",
      "1. More sophisticated modeling (e.g., probabilistic modeling)"
     ]
    },
    {
     "cell_type": "heading",
     "level": 3,
     "metadata": {},
     "source": [
      "Where to start?"
     ]
    },
    {
     "cell_type": "markdown",
     "metadata": {},
     "source": [
      "These are just the starting block for doing computational work.  In reality, computational models are a set of algorithmic tools for doing cool stuff with data, a set of high-level languages for carefully laying out what those algorithms do, and a set of high-level languages for carrying out those algorithms on computers.  You'll need to work on understanding all three (intuition, math, and programming) in order to be a good computational scientist.\n",
      "\n",
      "To that extent, what should you focus on first?  In my opinion, you should try and do all of them at the same time, since they're all intimately connected.  However, if you must start somewhere, I'd suggest that you:\n",
      "\n",
      "1. Start learning some python, because it is free, it is the most flexible, and because there is a HUGE community of pythonistas out there that can provide help.\n",
      "1. Start with some very simple computational models (e.g., linear regression). Learn about what they do intuitively.\n",
      "1. Go through the equations for these models.  Be able to explain each part of the equation, and what it does intuitively.\n",
      "1. Find a package that carries out these equations, look through its code and see how the code relates to the equation, as well as how the data you have in python can be transformed to inputs in this equation.\n",
      "1. Find some data and play around with it using this model.  Learn what it does, when it breaks, when it acts strangely, what it can tell you, and what it assumes.  Get to the point where someone could throw a random dataset at you, and you could figure out whether this model applies and how you'd use this approach on it.\n",
      "1. Move on to the next model, package, equation, etc."
     ]
    },
    {
     "cell_type": "heading",
     "level": 3,
     "metadata": {},
     "source": [
      "Here are some good packages you should look into:"
     ]
    },
    {
     "cell_type": "markdown",
     "metadata": {},
     "source": [
      "Big distributions:\n",
      "Enthought\n",
      "Anaconda\n",
      "\n",
      "And more specific packages:\n",
      "\n",
      "- scipy\n",
      "- numpy\n",
      "- scikit-learn\n",
      "- pandas\n",
      "- statsmodels"
     ]
    },
    {
     "cell_type": "heading",
     "level": 3,
     "metadata": {},
     "source": [
      "And here are some particularly good resources to check out"
     ]
    },
    {
     "cell_type": "markdown",
     "metadata": {},
     "source": [
      "* Bishop Machine Learning\n",
      "* LearnDS.com\n",
      "* software-carpentry.org\n",
      "* Kendrick's Matlab Lectures"
     ]
    },
    {
     "cell_type": "heading",
     "level": 3,
     "metadata": {},
     "source": [
      "What about some classes you should look into?"
     ]
    },
    {
     "cell_type": "markdown",
     "metadata": {},
     "source": [
      "???"
     ]
    },
    {
     "cell_type": "code",
     "collapsed": false,
     "input": [],
     "language": "python",
     "metadata": {},
     "outputs": []
    }
   ],
   "metadata": {}
  }
 ]
}