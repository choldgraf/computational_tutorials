{
 "metadata": {
  "name": ""
 },
 "nbformat": 3,
 "nbformat_minor": 0,
 "worksheets": [
  {
   "cells": [
    {
     "cell_type": "code",
     "collapsed": false,
     "input": [
      "import pandas as pd\n",
      "import matplotlib.pyplot as plt\n",
      "import os\n",
      "from IPython.core.display import clear_output\n",
      "from time import sleep"
     ],
     "language": "python",
     "metadata": {},
     "outputs": []
    },
    {
     "cell_type": "code",
     "collapsed": false,
     "input": [
      "## Location to a CSV file with the words in them\n",
      "myData = pd.read_csv('/Users/choldgraf/Downloads/words_to_record')"
     ],
     "language": "python",
     "metadata": {},
     "outputs": []
    },
    {
     "cell_type": "code",
     "collapsed": false,
     "input": [
      "## Set i to be the stimulus we want to begin with\n",
      "startStim = 0 ## Begin idx at 0\n",
      "endStim = 250"
     ],
     "language": "python",
     "metadata": {},
     "outputs": []
    },
    {
     "cell_type": "code",
     "collapsed": false,
     "input": [
      "sleep_amt = 3 ## in seconds, how much we wait after each stimulus\n",
      "\n",
      "i = 0\n",
      "while i < endStim:\n",
      "    clear_output()\n",
      "    if i % 50 == 0: sleep(10)\n",
      "    if i % 10 == 0: print i\n",
      "    fig = plt.figure()\n",
      "    ax = fig.add_subplot(111) \n",
      "    ax.text(-10, 0, '{0}'.format(myData.Word[i]), style='normal', size=400)\n",
      "    plt.show()\n",
      "    sleep(sleep_amt)\n",
      "    \n",
      "    clear_output()\n",
      "    fig = plt.figure()\n",
      "    ax = fig.add_subplot(111)\n",
      "    ax.text(-10, 0, '********{0}********'.format(myData.Word[i]), style='normal', size=400)\n",
      "    plt.show()\n",
      "    sleep(sleep_amt)\n",
      "\n",
      "    i += 1  \n"
     ],
     "language": "python",
     "metadata": {},
     "outputs": []
    }
   ],
   "metadata": {}
  }
 ]
}