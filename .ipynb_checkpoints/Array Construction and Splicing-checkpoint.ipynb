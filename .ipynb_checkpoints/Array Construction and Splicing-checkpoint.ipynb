{
 "metadata": {
  "name": ""
 },
 "nbformat": 3,
 "nbformat_minor": 0,
 "worksheets": [
  {
   "cells": [
    {
     "cell_type": "markdown",
     "metadata": {},
     "source": [
      "One of the most annoying things in dealing with data is putting that data into the right form.\n",
      "\n",
      "For example, if I've got data that is \"electrodes x timepoints x trials\", I essentially have a 3D matrix, with each dimension corresponding to an important aspect of the data.\n",
      "\n",
      "However, oftentimes we want to reorganize these matrices, concatenate them, slice them, etc.  When we do this, it can quickly become a complicated mess without an understanding for how python conceptualized these matrices.\n",
      "\n",
      "So, without further ado, here are a few important things to consider whenever you deal with an matrix (called an 'array' in python)..."
     ]
    },
    {
     "cell_type": "heading",
     "level": 1,
     "metadata": {},
     "source": [
      "***The other curse of dimensionality: A brief tutorial on how numpy handles arrays***"
     ]
    },
    {
     "cell_type": "markdown",
     "metadata": {},
     "source": [
      "To begin with, we'll create a single vector that is 16 elements long.  Let's see how python interacts with it."
     ]
    },
    {
     "cell_type": "code",
     "collapsed": false,
     "input": [
      "a = np.arange(16)\n",
      "print a"
     ],
     "language": "python",
     "metadata": {},
     "outputs": [
      {
       "output_type": "stream",
       "stream": "stdout",
       "text": [
        "[ 0  1  2  3  4  5  6  7  8  9 10 11 12 13 14 15]\n"
       ]
      }
     ],
     "prompt_number": 30
    },
    {
     "cell_type": "heading",
     "level": 2,
     "metadata": {},
     "source": [
      "1. Python is Row ordered, Matlab is column ordered"
     ]
    },
    {
     "cell_type": "markdown",
     "metadata": {},
     "source": [
      "What does this mean?  Well, basically you can think of it as the way that the language \"counts through\" a matrix.  It's two dimensions, so if you are asked to count the first entry, then the second, etc...do you start at the top left and count to the right, or do you count down?"
     ]
    },
    {
     "cell_type": "markdown",
     "metadata": {},
     "source": [
      "For example, if I were to reshape this vector into a 2-D matrix, here's what python does:"
     ]
    },
    {
     "cell_type": "code",
     "collapsed": false,
     "input": [
      "b = a.reshape([8, 2])\n",
      "print b"
     ],
     "language": "python",
     "metadata": {},
     "outputs": [
      {
       "output_type": "stream",
       "stream": "stdout",
       "text": [
        "[[ 0  1]\n",
        " [ 2  3]\n",
        " [ 4  5]\n",
        " [ 6  7]\n",
        " [ 8  9]\n",
        " [10 11]\n",
        " [12 13]\n",
        " [14 15]]\n"
       ]
      }
     ],
     "prompt_number": 31
    },
    {
     "cell_type": "markdown",
     "metadata": {},
     "source": [
      "How did Python do this?  It took the vector a, and started stacking rows of length two on top of one another until it reached the last element.  This is row-major order"
     ]
    },
    {
     "cell_type": "markdown",
     "metadata": {},
     "source": [
      "Now let's see what happens if we were to do this in Matlab, a language that uses \"column-major\" order.  We can accomplish this by using a nifty flag that tells numpy to use this alternative ordering method..."
     ]
    },
    {
     "cell_type": "code",
     "collapsed": false,
     "input": [
      "b = a.reshape([8, 2], order='F')\n",
      "print b"
     ],
     "language": "python",
     "metadata": {},
     "outputs": [
      {
       "output_type": "stream",
       "stream": "stdout",
       "text": [
        "[[ 0  8]\n",
        " [ 1  9]\n",
        " [ 2 10]\n",
        " [ 3 11]\n",
        " [ 4 12]\n",
        " [ 5 13]\n",
        " [ 6 14]\n",
        " [ 7 15]]\n"
       ]
      }
     ],
     "prompt_number": 32
    },
    {
     "cell_type": "markdown",
     "metadata": {},
     "source": [
      "When we use column-major order, python built <strong>columns</strong>, then started placing them next to one another."
     ]
    },
    {
     "cell_type": "markdown",
     "metadata": {},
     "source": [
      "The same thing applies to indexing a matrix as well:"
     ]
    },
    {
     "cell_type": "code",
     "collapsed": false,
     "input": [
      "b = a.reshape([4, 4])\n",
      "print b\n",
      "print '\\nAnd the first element of b is:'\n",
      "print b[0]"
     ],
     "language": "python",
     "metadata": {},
     "outputs": [
      {
       "output_type": "stream",
       "stream": "stdout",
       "text": [
        "[[ 0  1  2  3]\n",
        " [ 4  5  6  7]\n",
        " [ 8  9 10 11]\n",
        " [12 13 14 15]]\n",
        "\n",
        "And the first element of be is:\n",
        "1\n"
       ]
      }
     ],
     "prompt_number": 44
    },
    {
     "cell_type": "markdown",
     "metadata": {},
     "source": [
      "Note that when we index the <em>first element</em> of the matrix \"b\", what python returns is a <em>row</em>.  \n",
      "\n",
      "This shows the exlicit way that python deals with matrix: it considers them to be collections of rows, stacked on top of one another.  \n",
      "\n",
      "This makes intuitive sense - think about how you'd normally index a matrix using (i, j) notation.  In this sense, you're saying \"give me the ith row and the jth column\".  \n",
      "\n",
      "When python uses row-major order, it's intuitively following this.  This is why <code>b[0, 1]</code> is equivalent to <code>b[0][1]</code>"
     ]
    },
    {
     "cell_type": "code",
     "collapsed": false,
     "input": [
      "print b[0, 1], \"and\", b[0][1]\n",
      "print b[3, 2], \"and\", b[3][2]"
     ],
     "language": "python",
     "metadata": {},
     "outputs": [
      {
       "output_type": "stream",
       "stream": "stdout",
       "text": [
        "1 and 1\n",
        "14 and 14\n"
       ]
      }
     ],
     "prompt_number": 50
    },
    {
     "cell_type": "heading",
     "level": 2,
     "metadata": {},
     "source": [
      "2. 3-Dimensional Matrices"
     ]
    },
    {
     "cell_type": "markdown",
     "metadata": {},
     "source": [
      "This is a nice point to bring up 3-D matrices, something that has been a source of infinite confusion for many researchers.  Essentially, the problem boils down to this:\n",
      "\n",
      "> If I reshape a 3-D matrix to have new dimensionality, what the hell happens?\n",
      "\n",
      "Instead of choosing a set of dimensions that makes sense to you intuitively and praying that python has the same intuition that you do, let's investigate how python organizes these dimensions."
     ]
    },
    {
     "cell_type": "code",
     "collapsed": false,
     "input": [
      "c = np.arange(27).reshape([3, 3, 3])\n",
      "print c"
     ],
     "language": "python",
     "metadata": {},
     "outputs": [
      {
       "output_type": "stream",
       "stream": "stdout",
       "text": [
        "[[[ 0  1  2]\n",
        "  [ 3  4  5]\n",
        "  [ 6  7  8]]\n",
        "\n",
        " [[ 9 10 11]\n",
        "  [12 13 14]\n",
        "  [15 16 17]]\n",
        "\n",
        " [[18 19 20]\n",
        "  [21 22 23]\n",
        "  [24 25 26]]]\n"
       ]
      }
     ],
     "prompt_number": 2
    },
    {
     "cell_type": "markdown",
     "metadata": {},
     "source": [
      "Here we have c, a 3x3x3 matrix with three dimensions.\n",
      "\n",
      "Notice that there's something very similar to how python indexes a 2-D matrix."
     ]
    },
    {
     "cell_type": "code",
     "collapsed": false,
     "input": [
      "d = c[0]\n",
      "print d"
     ],
     "language": "python",
     "metadata": {},
     "outputs": [
      {
       "output_type": "stream",
       "stream": "stdout",
       "text": [
        "[[0 1 2]\n",
        " [3 4 5]\n",
        " [6 7 8]]\n"
       ]
      }
     ],
     "prompt_number": 3
    },
    {
     "cell_type": "markdown",
     "metadata": {},
     "source": [
      "Hmmm, that's interesting, the first element of c is actually a 2-D matrix.  Now let's do the same thing we did up above:"
     ]
    },
    {
     "cell_type": "code",
     "collapsed": false,
     "input": [
      "print d[0]"
     ],
     "language": "python",
     "metadata": {},
     "outputs": [
      {
       "output_type": "stream",
       "stream": "stdout",
       "text": [
        "[0 1 2]\n"
       ]
      }
     ],
     "prompt_number": 4
    },
    {
     "cell_type": "markdown",
     "metadata": {},
     "source": [
      "As before, the first element of d is a 1-D matrix (a row).  As such, if you boil any matrix down to its individual elements, what you eventually get is a 1-D row.\n",
      "\n",
      "So really, when you store a 3D matrix, python thinks of it as a collection of 2D matrices stacked on top of one another.  These matrices are themselves a collection of 1D vectors stacked on top of one another.  In other words:\n",
      "\n",
      "> A 3D matrix is just a stack of 2D matrices, which are just a stack of 1D vectors."
     ]
    },
    {
     "cell_type": "heading",
     "level": 2,
     "metadata": {},
     "source": [
      "3. Reshaping matrices"
     ]
    },
    {
     "cell_type": "markdown",
     "metadata": {},
     "source": [
      "So, what does this mean for reshaping?  Well, let's return to our 3D matrix 'c'..."
     ]
    },
    {
     "cell_type": "code",
     "collapsed": false,
     "input": [
      "print c"
     ],
     "language": "python",
     "metadata": {},
     "outputs": [
      {
       "output_type": "stream",
       "stream": "stdout",
       "text": [
        "[[[ 0  1  2]\n",
        "  [ 3  4  5]\n",
        "  [ 6  7  8]]\n",
        "\n",
        " [[ 9 10 11]\n",
        "  [12 13 14]\n",
        "  [15 16 17]]\n",
        "\n",
        " [[18 19 20]\n",
        "  [21 22 23]\n",
        "  [24 25 26]]]\n"
       ]
      }
     ],
     "prompt_number": 5
    },
    {
     "cell_type": "code",
     "collapsed": false,
     "input": [
      "d = c.reshape((9, 3))\n",
      "d"
     ],
     "language": "python",
     "metadata": {},
     "outputs": [
      {
       "metadata": {},
       "output_type": "pyout",
       "prompt_number": 6,
       "text": [
        "array([[ 0,  1,  2],\n",
        "       [ 3,  4,  5],\n",
        "       [ 6,  7,  8],\n",
        "       [ 9, 10, 11],\n",
        "       [12, 13, 14],\n",
        "       [15, 16, 17],\n",
        "       [18, 19, 20],\n",
        "       [21, 22, 23],\n",
        "       [24, 25, 26]])"
       ]
      }
     ],
     "prompt_number": 6
    },
    {
     "cell_type": "markdown",
     "metadata": {},
     "source": [
      "No matter what the dimensionality of an array is, python still thinks about it like a serial string of numbers.  The dimensionality just exists as metadata that tells python how it's organized.  \n",
      "\n",
      "To that extent, when you reshape an array, you can think of python first unraveling it into a big 1D vector, and then building up your final N-D array piece by piece\n",
      "\n",
      "Effectively, you should think about reshaping by first looking at the final dimension.  This is the length of the 1D vector that will be the building block of whatever array you finally construct"
     ]
    },
    {
     "cell_type": "code",
     "collapsed": false,
     "input": [
      "print d.shape\n",
      "print d[0]\n",
      "print d[1]\n"
     ],
     "language": "python",
     "metadata": {},
     "outputs": [
      {
       "output_type": "stream",
       "stream": "stdout",
       "text": [
        "(9, 3)\n",
        "[0 1 2]\n",
        "[3 4 5]\n"
       ]
      }
     ],
     "prompt_number": 10
    },
    {
     "cell_type": "markdown",
     "metadata": {},
     "source": [
      "This means that, whatever your \"reshaped\" dimensions are, the final dimension should define natural splits in the data <em>as if it were read out as a 1D vector</em>.\n",
      "\n",
      "For example, if you've got data that is <code>electrodes X time</code>, and each trial is 1200 datapoints long, then reshaping this array such that the final dimension isn't length 1200 will <strong>chop your trials into pieces</strong>.  This is generally a bad thing."
     ]
    },
    {
     "cell_type": "code",
     "collapsed": false,
     "input": [
      "mytrials = np.array([np.arange(1200)] * 100)\n",
      "mytrials.shape"
     ],
     "language": "python",
     "metadata": {},
     "outputs": [
      {
       "metadata": {},
       "output_type": "pyout",
       "prompt_number": 25,
       "text": [
        "(100, 1200)"
       ]
      }
     ],
     "prompt_number": 25
    },
    {
     "cell_type": "code",
     "collapsed": false,
     "input": [
      "mytrails_reshape = mytrials.reshape([1200, 100])\n",
      "\n",
      "print mytrials[0], '\\n'\n",
      "print mytrails_reshape[0]\n"
     ],
     "language": "python",
     "metadata": {},
     "outputs": [
      {
       "output_type": "stream",
       "stream": "stdout",
       "text": [
        "[   0    1    2 ..., 1197 1198 1199] \n",
        "\n",
        "[ 0  1  2  3  4  5  6  7  8  9 10 11 12 13 14 15 16 17 18 19 20 21 22 23 24\n",
        " 25 26 27 28 29 30 31 32 33 34 35 36 37 38 39 40 41 42 43 44 45 46 47 48 49\n",
        " 50 51 52 53 54 55 56 57 58 59 60 61 62 63 64 65 66 67 68 69 70 71 72 73 74\n",
        " 75 76 77 78 79 80 81 82 83 84 85 86 87 88 89 90 91 92 93 94 95 96 97 98 99]\n"
       ]
      }
     ],
     "prompt_number": 36
    },
    {
     "cell_type": "markdown",
     "metadata": {},
     "source": [
      "Notice that we've now cut the final axis of our original data into small chunks.  The takeway?  <strong>Be careful when you reshape</strong>.  Just because the dimensions make intuitive sense to you doesn't mean python will change them intelligently."
     ]
    }
   ],
   "metadata": {}
  }
 ]
}