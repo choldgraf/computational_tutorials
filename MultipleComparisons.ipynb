{
 "metadata": {
  "name": "MultipleComparisons"
 },
 "nbformat": 3,
 "nbformat_minor": 0,
 "worksheets": [
  {
   "cells": [
    {
     "cell_type": "code",
     "collapsed": false,
     "input": [
      "import numpy as np\n",
      "from __future__ import division\n",
      "%%pylab inline"
     ],
     "language": "python",
     "metadata": {},
     "outputs": [
      {
       "output_type": "stream",
       "stream": "stdout",
       "text": [
        "\n",
        "Welcome to pylab, a matplotlib-based Python environment [backend: module://IPython.kernel.zmq.pylab.backend_inline].\n",
        "For more information, type 'help(pylab)'.\n"
       ]
      }
     ],
     "prompt_number": 51
    },
    {
     "cell_type": "code",
     "collapsed": false,
     "input": [
      "# First simulate some data\n",
      "import scipy.stats as sps\n",
      "import scipy as sp\n",
      "nPts = 10000\n",
      "nFts = 100\n",
      "data = sp.random.uniform(0, 1, nPts*nFts)\n",
      "data = np.reshape(data, [nPts, nFts])"
     ],
     "language": "python",
     "metadata": {},
     "outputs": [],
     "prompt_number": 13
    },
    {
     "cell_type": "code",
     "collapsed": false,
     "input": [
      "# Now run t-tests for each pair of features\n",
      "idxs = np.array([(a, b) for a in np.arange(nFts) for b in np.arange(nFts)])\n",
      "testResults = np.array([sps.ttest_ind(data[:, i], data[:, j]) for i, j in idxs])"
     ],
     "language": "python",
     "metadata": {},
     "outputs": [],
     "prompt_number": 17
    },
    {
     "cell_type": "code",
     "collapsed": false,
     "input": [
      "# Now what if we count all the tests that were significant\n",
      "sigFeats = idxs[testResults[:, 1] < .05]\n",
      "print \"Found %i significant feature pairs out of %i total comparisons!\\n\\nThat's a %.2f percent hit rate!\\n\"\\\n",
      "    %(sigFeats.shape[0], idxs.shape[0], (sigFeats.shape[0] / idxs.shape[0])*100)\n",
      "sigFeats"
     ],
     "language": "python",
     "metadata": {},
     "outputs": [
      {
       "output_type": "stream",
       "stream": "stdout",
       "text": [
        "Found 556 significant feature pairs out of 10000 total comparisons!\n",
        "\n",
        "That's a 5.56 percent hit rate!\n",
        "\n"
       ]
      },
      {
       "output_type": "pyout",
       "prompt_number": 60,
       "text": [
        "array([[ 1, 21],\n",
        "       [ 1, 56],\n",
        "       [ 2,  4],\n",
        "       ..., \n",
        "       [98, 68],\n",
        "       [98, 82],\n",
        "       [99, 11]])"
       ]
      }
     ],
     "prompt_number": 60
    },
    {
     "cell_type": "heading",
     "level": 3,
     "metadata": {},
     "source": [
      "Wait a sec, that 6% hit rate seems awfully similar to our p-value...why is that?"
     ]
    },
    {
     "cell_type": "heading",
     "level": 4,
     "metadata": {},
     "source": [
      "If we plot the results of our tests, we can see what happened.  We knew that the data was generated completely randomly, but we still found significant interactions.  This is because by the definition of a p-value, 5% of the time we will have false positives.  You can see that in the following two graphs..."
     ]
    },
    {
     "cell_type": "code",
     "collapsed": false,
     "input": [
      "# These were our results\n",
      "import matplotlib as mpl\n",
      "import matplotlib.pyplot as plt\n",
      "fig = mpl.figure.Figure()\n",
      "ax = subplot(211)\n",
      "plt.hist(testResults[:, 1])\n",
      "\n",
      "subplot(212)\n",
      "plt.hist(testResults[:, 0])"
     ],
     "language": "python",
     "metadata": {},
     "outputs": [
      {
       "output_type": "pyout",
       "prompt_number": 61,
       "text": [
        "(array([  40,  168,  649, 1525, 2568, 2668, 1525,  649,  168,   40]),\n",
        " array([-3.46580937, -2.7726475 , -2.07948562, -1.38632375, -0.69316187,\n",
        "        0.        ,  0.69316187,  1.38632375,  2.07948562,  2.7726475 ,\n",
        "        3.46580937]),\n",
        " <a list of 10 Patch objects>)"
       ]
      },
      {
       "output_type": "display_data",
       "png": "[encoded data removed]",
       "text": [
        "<matplotlib.figure.Figure at 0x10f07b490>"
       ]
      }
     ],
     "prompt_number": 61
    },
    {
     "cell_type": "heading",
     "level": 3,
     "metadata": {},
     "source": [
      "So what can we do?  Well, let's try an ANOVA"
     ]
    },
    {
     "cell_type": "code",
     "collapsed": false,
     "input": [
      "splitData = [data[:, i] for i in range(data.shape[1])]\n",
      "fVal, pVal = sp.stats.f_oneway(*[splitData[i] for i in range(len(splitData))])"
     ],
     "language": "python",
     "metadata": {},
     "outputs": [],
     "prompt_number": 89
    },
    {
     "cell_type": "code",
     "collapsed": false,
     "input": [
      "print \"The F-value is %.4f and the corresponding p-value is %.4f, clearly not significant\"%(fVal, pVal)"
     ],
     "language": "python",
     "metadata": {},
     "outputs": [
      {
       "output_type": "stream",
       "stream": "stdout",
       "text": [
        "The F-value is 1.0232 and the corresponding p-value is 0.4172, clearly not significant\n"
       ]
      }
     ],
     "prompt_number": 90
    }
   ],
   "metadata": {}
  }
 ]
}